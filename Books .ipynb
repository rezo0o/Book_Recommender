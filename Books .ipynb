{
  "nbformat": 4,
  "nbformat_minor": 0,
  "metadata": {
    "colab": {
      "provenance": []
    },
    "kernelspec": {
      "name": "python3",
      "display_name": "Python 3"
    },
    "language_info": {
      "name": "python"
    }
  },
  "cells": [
    {
      "cell_type": "code",
      "execution_count": 52,
      "metadata": {
        "id": "019cV68-TFzo"
      },
      "outputs": [],
      "source": [
        "import pandas as pd\n",
        "import numpy as np\n",
        "import matplotlib.pyplot as plt\n",
        "import seaborn as sns\n",
        "import re\n",
        "from sklearn.feature_extraction.text import CountVectorizer\n",
        "from sklearn.metrics.pairwise import cosine_similarity\n",
        "from sklearn.feature_extraction.text import TfidfVectorizer\n",
        "import warnings\n",
        "warnings.filterwarnings('ignore')"
      ]
    },
    {
      "cell_type": "code",
      "source": [
        "from google.colab import drive\n",
        "drive.mount('/content/drive')"
      ],
      "metadata": {
        "colab": {
          "base_uri": "https://localhost:8080/"
        },
        "id": "oMb6iSwiUC3E",
        "outputId": "49bb6031-26f4-487a-fbf1-65e5e4eb77fa"
      },
      "execution_count": 2,
      "outputs": [
        {
          "output_type": "stream",
          "name": "stdout",
          "text": [
            "Mounted at /content/drive\n"
          ]
        }
      ]
    },
    {
      "cell_type": "code",
      "source": [
        "books = pd.read_csv('/content/drive/My Drive/Colab Notebooks/Books.csv')\n",
        "ratings = pd.read_csv('/content/drive/My Drive/Colab Notebooks/Ratings.csv')\n",
        "users = pd.read_csv('/content/drive/My Drive/Colab Notebooks/Users.csv')\n"
      ],
      "metadata": {
        "id": "emFu2UHtUNbZ"
      },
      "execution_count": 53,
      "outputs": []
    },
    {
      "cell_type": "code",
      "source": [
        "print(books.info())\n",
        "print(ratings.info())\n",
        "print(users.info())"
      ],
      "metadata": {
        "colab": {
          "base_uri": "https://localhost:8080/"
        },
        "id": "6ztBpIRdgN5z",
        "outputId": "da341022-1350-469f-ab9b-300a39c1e8f5"
      },
      "execution_count": 20,
      "outputs": [
        {
          "output_type": "stream",
          "name": "stdout",
          "text": [
            "<class 'pandas.core.frame.DataFrame'>\n",
            "RangeIndex: 271360 entries, 0 to 271359\n",
            "Data columns (total 8 columns):\n",
            " #   Column               Non-Null Count   Dtype \n",
            "---  ------               --------------   ----- \n",
            " 0   ISBN                 271360 non-null  object\n",
            " 1   Book-Title           271360 non-null  object\n",
            " 2   Book-Author          271358 non-null  object\n",
            " 3   Year-Of-Publication  271360 non-null  object\n",
            " 4   Publisher            271358 non-null  object\n",
            " 5   Image-URL-S          271360 non-null  object\n",
            " 6   Image-URL-M          271360 non-null  object\n",
            " 7   Image-URL-L          271357 non-null  object\n",
            "dtypes: object(8)\n",
            "memory usage: 16.6+ MB\n",
            "None\n",
            "<class 'pandas.core.frame.DataFrame'>\n",
            "RangeIndex: 1149780 entries, 0 to 1149779\n",
            "Data columns (total 3 columns):\n",
            " #   Column       Non-Null Count    Dtype \n",
            "---  ------       --------------    ----- \n",
            " 0   User-ID      1149780 non-null  int64 \n",
            " 1   ISBN         1149780 non-null  object\n",
            " 2   Book-Rating  1149780 non-null  int64 \n",
            "dtypes: int64(2), object(1)\n",
            "memory usage: 26.3+ MB\n",
            "None\n",
            "<class 'pandas.core.frame.DataFrame'>\n",
            "RangeIndex: 278858 entries, 0 to 278857\n",
            "Data columns (total 3 columns):\n",
            " #   Column    Non-Null Count   Dtype  \n",
            "---  ------    --------------   -----  \n",
            " 0   User-ID   278858 non-null  int64  \n",
            " 1   Location  278858 non-null  object \n",
            " 2   Age       168096 non-null  float64\n",
            "dtypes: float64(1), int64(1), object(1)\n",
            "memory usage: 6.4+ MB\n",
            "None\n"
          ]
        }
      ]
    },
    {
      "cell_type": "code",
      "source": [],
      "metadata": {
        "id": "l6c-hVrXgVOJ"
      },
      "execution_count": null,
      "outputs": []
    },
    {
      "cell_type": "code",
      "source": [
        "# 3) BASIC EDA (EXPLORATORY DATA ANALYSIS)\n",
        "print(\"========== SHAPES ==========\")\n",
        "print(\"Books shape:\", books.shape)\n",
        "print(\"Ratings shape:\", ratings.shape)\n",
        "print(\"Users shape:\", users.shape)\n",
        "\n",
        "print(\"\\n========== MISSING VALUES ==========\")\n",
        "print(\"Books:\\n\", books.isna().sum())\n",
        "print(\"\\nRatings:\\n\", ratings.isna().sum())\n",
        "print(\"\\nUsers:\\n\", users.isna().sum())\n",
        "\n",
        "print(\"\\n========== SAMPLE ROWS ==========\")\n",
        "print(\"Books head:\\n\", books.head(3))\n",
        "print(\"\\nRatings head:\\n\", ratings.head(3))\n",
        "print(\"\\nUsers head:\\n\", users.head(3))\n",
        "\n",
        "print(\"\\n========== DISTRIBUTION OF RATINGS ==========\")\n",
        "plt.figure(figsize=(6,4))\n",
        "sns.countplot(x=\"Book-Rating\", data=ratings, palette=\"viridis\")\n",
        "plt.title(\"Distribution of Book-Rating (All Users)\")\n",
        "plt.show()"
      ],
      "metadata": {
        "colab": {
          "base_uri": "https://localhost:8080/",
          "height": 1000
        },
        "id": "kc7tO2hnVUlt",
        "outputId": "2fed8467-fabb-4a8a-81f9-2c050ecaf947"
      },
      "execution_count": 21,
      "outputs": [
        {
          "output_type": "stream",
          "name": "stdout",
          "text": [
            "========== SHAPES ==========\n",
            "Books shape: (271360, 8)\n",
            "Ratings shape: (1149780, 3)\n",
            "Users shape: (278858, 3)\n",
            "\n",
            "========== MISSING VALUES ==========\n",
            "Books:\n",
            " ISBN                   0\n",
            "Book-Title             0\n",
            "Book-Author            2\n",
            "Year-Of-Publication    0\n",
            "Publisher              2\n",
            "Image-URL-S            0\n",
            "Image-URL-M            0\n",
            "Image-URL-L            3\n",
            "dtype: int64\n",
            "\n",
            "Ratings:\n",
            " User-ID        0\n",
            "ISBN           0\n",
            "Book-Rating    0\n",
            "dtype: int64\n",
            "\n",
            "Users:\n",
            " User-ID          0\n",
            "Location         0\n",
            "Age         110762\n",
            "dtype: int64\n",
            "\n",
            "========== SAMPLE ROWS ==========\n",
            "Books head:\n",
            "          ISBN            Book-Title           Book-Author Year-Of-Publication  \\\n",
            "0  0195153448   Classical Mythology    Mark P. O. Morford                2002   \n",
            "1  0002005018          Clara Callan  Richard Bruce Wright                2001   \n",
            "2  0060973129  Decision in Normandy          Carlo D'Este                1991   \n",
            "\n",
            "                 Publisher                                        Image-URL-S  \\\n",
            "0  Oxford University Press  http://images.amazon.com/images/P/0195153448.0...   \n",
            "1    HarperFlamingo Canada  http://images.amazon.com/images/P/0002005018.0...   \n",
            "2          HarperPerennial  http://images.amazon.com/images/P/0060973129.0...   \n",
            "\n",
            "                                         Image-URL-M  \\\n",
            "0  http://images.amazon.com/images/P/0195153448.0...   \n",
            "1  http://images.amazon.com/images/P/0002005018.0...   \n",
            "2  http://images.amazon.com/images/P/0060973129.0...   \n",
            "\n",
            "                                         Image-URL-L  \n",
            "0  http://images.amazon.com/images/P/0195153448.0...  \n",
            "1  http://images.amazon.com/images/P/0002005018.0...  \n",
            "2  http://images.amazon.com/images/P/0060973129.0...  \n",
            "\n",
            "Ratings head:\n",
            "    User-ID        ISBN  Book-Rating\n",
            "0   276725  034545104X            0\n",
            "1   276726  0155061224            5\n",
            "2   276727  0446520802            0\n",
            "\n",
            "Users head:\n",
            "    User-ID                         Location   Age\n",
            "0        1               nyc, new york, usa   NaN\n",
            "1        2        stockton, california, usa  18.0\n",
            "2        3  moscow, yukon territory, russia   NaN\n",
            "\n",
            "========== DISTRIBUTION OF RATINGS ==========\n"
          ]
        },
        {
          "output_type": "display_data",
          "data": {
            "text/plain": [
              "<Figure size 600x400 with 1 Axes>"
            ],
            "image/png": "[encoded data removed]"
          },
          "metadata": {}
        }
      ]
    },
    {
      "cell_type": "code",
      "source": [
        "# 1) DROP THE AGE COLUMN (since we won't use it)\n",
        "if \"Age\" in users.columns:\n",
        "    users.drop(columns=[\"Age\"], inplace=True)\n",
        "    print(\"\\nDropped 'Age' column from 'users'.\")\n",
        "\n",
        "# 2) DROP ROWS WITH MISSING VALUES IN BOOKS\n",
        "#    (This will remove rows missing 'Book-Author', 'Publisher', or any other column.)\n",
        "books.dropna(inplace=True)\n",
        "print(\"\\nDropped rows with missing values in 'books'.\")\n",
        "print(\"Books shape after dropna():\", books.shape)\n",
        "\n",
        "# 3) DROP RATINGS WHERE BOOK-RATING == 0\n",
        "ratings = ratings[ratings[\"Book-Rating\"] != 0]\n",
        "print(\"\\nDropped rows where Book-Rating == 0.\")\n",
        "print(\"Ratings shape after dropping 0 ratings:\", ratings.shape)\n",
        "\n",
        "# 4) MERGE THE DATAFRAMES\n",
        "merged_df = pd.merge(books, ratings, on=\"ISBN\", how=\"inner\")\n",
        "merged_df = pd.merge(merged_df, users, on=\"User-ID\", how=\"inner\")\n",
        "\n",
        "print(\"\\nAfter merge, final DataFrame shape:\", merged_df.shape)\n",
        "print(\"Columns in merged_df:\", merged_df.columns.tolist())\n"
      ],
      "metadata": {
        "colab": {
          "base_uri": "https://localhost:8080/"
        },
        "id": "KXNQ7pWrWogu",
        "outputId": "bc3edcb6-ae69-4987-f8b9-c7d8bcb4ae53"
      },
      "execution_count": 54,
      "outputs": [
        {
          "output_type": "stream",
          "name": "stdout",
          "text": [
            "\n",
            "Dropped 'Age' column from 'users'.\n",
            "\n",
            "Dropped rows with missing values in 'books'.\n",
            "Books shape after dropna(): (271353, 8)\n",
            "\n",
            "Dropped rows where Book-Rating == 0.\n",
            "Ratings shape after dropping 0 ratings: (433671, 3)\n",
            "\n",
            "After merge, final DataFrame shape: (383837, 11)\n",
            "Columns in merged_df: ['ISBN', 'Book-Title', 'Book-Author', 'Year-Of-Publication', 'Publisher', 'Image-URL-S', 'Image-URL-M', 'Image-URL-L', 'User-ID', 'Book-Rating', 'Location']\n"
          ]
        }
      ]
    },
    {
      "cell_type": "code",
      "source": [
        "merged_df.info()"
      ],
      "metadata": {
        "colab": {
          "base_uri": "https://localhost:8080/"
        },
        "id": "Vo-EYn7HXN4V",
        "outputId": "cc33a00f-d1b0-4e3e-d450-20bc849006c3"
      },
      "execution_count": 55,
      "outputs": [
        {
          "output_type": "stream",
          "name": "stdout",
          "text": [
            "<class 'pandas.core.frame.DataFrame'>\n",
            "RangeIndex: 383837 entries, 0 to 383836\n",
            "Data columns (total 11 columns):\n",
            " #   Column               Non-Null Count   Dtype \n",
            "---  ------               --------------   ----- \n",
            " 0   ISBN                 383837 non-null  object\n",
            " 1   Book-Title           383837 non-null  object\n",
            " 2   Book-Author          383837 non-null  object\n",
            " 3   Year-Of-Publication  383837 non-null  object\n",
            " 4   Publisher            383837 non-null  object\n",
            " 5   Image-URL-S          383837 non-null  object\n",
            " 6   Image-URL-M          383837 non-null  object\n",
            " 7   Image-URL-L          383837 non-null  object\n",
            " 8   User-ID              383837 non-null  int64 \n",
            " 9   Book-Rating          383837 non-null  int64 \n",
            " 10  Location             383837 non-null  object\n",
            "dtypes: int64(2), object(9)\n",
            "memory usage: 32.2+ MB\n"
          ]
        }
      ]
    },
    {
      "cell_type": "code",
      "source": [
        "# 1) CLEAN YEAR-OF-PUBLICATION ---\n",
        "\n",
        "merged_df[\"Year-Of-Publication\"] = pd.to_numeric(\n",
        "    merged_df[\"Year-Of-Publication\"],\n",
        "    errors='coerce'\n",
        ")\n",
        "\n",
        "# Print a few unique values (caution: they might be floats now)\n",
        "print(\"\\nUnique publication years (sample):\",\n",
        "      sorted(merged_df[\"Year-Of-Publication\"].dropna().unique())[:20], \"...\")\n",
        "\n",
        "# Replace weird or missing years (e.g., <1500 or >2025) with NaN\n",
        "merged_df.loc[\n",
        "    (merged_df[\"Year-Of-Publication\"] < 1500) |\n",
        "    (merged_df[\"Year-Of-Publication\"] > 2025),\n",
        "    \"Year-Of-Publication\"\n",
        "] = np.nan\n",
        "\n",
        "# Drop rows where Year-Of-Publication is NaN\n",
        "merged_df.dropna(subset=[\"Year-Of-Publication\"], inplace=True)\n",
        "\n",
        "print(\"Shape after removing out-of-range publication years:\", merged_df.shape)\n",
        "\n"
      ],
      "metadata": {
        "colab": {
          "base_uri": "https://localhost:8080/"
        },
        "id": "TOgekuoBWywl",
        "outputId": "77c6f19d-19fa-4358-f980-1e8942611e4b"
      },
      "execution_count": 56,
      "outputs": [
        {
          "output_type": "stream",
          "name": "stdout",
          "text": [
            "\n",
            "Unique publication years (sample): [0, 1376, 1378, 1806, 1900, 1901, 1902, 1904, 1906, 1908, 1911, 1920, 1923, 1924, 1925, 1926, 1927, 1928, 1929, 1930] ...\n",
            "Shape after removing out-of-range publication years: (378028, 11)\n"
          ]
        }
      ]
    },
    {
      "cell_type": "code",
      "source": [
        "# 1) FILTER OUT USERS WITH FEWER THAN 5 RATINGS\n",
        "min_user_ratings = 5\n",
        "user_counts = merged_df[\"User-ID\"].value_counts()\n",
        "active_users = user_counts[user_counts >= min_user_ratings].index\n",
        "merged_df = merged_df[merged_df[\"User-ID\"].isin(active_users)]\n",
        "\n",
        "# 2) FILTER OUT BOOKS WITH FEWER THAN 5 RATINGS\n",
        "min_book_ratings = 5\n",
        "book_counts = merged_df[\"Book-Title\"].value_counts()\n",
        "active_books = book_counts[book_counts >= min_book_ratings].index\n",
        "merged_df = merged_df[merged_df[\"Book-Title\"].isin(active_books)]\n",
        "\n",
        "print(f\"\\nShape after filtering infrequent users/books: {merged_df.shape}\")\n",
        "\n",
        "# 3) OPTIONAL: VISUALIZE DISTRIBUTIONS\n",
        "plt.figure(figsize=(6,4))\n",
        "merged_df[\"User-ID\"].value_counts().hist(bins=30, color=\"skyblue\")\n",
        "plt.title(\"Distribution of Ratings per Active User\")\n",
        "plt.xlabel(\"Number of Ratings by a User\")\n",
        "plt.ylabel(\"Count of Users\")\n",
        "plt.show()\n",
        "\n",
        "plt.figure(figsize=(6,4))\n",
        "merged_df[\"Book-Title\"].value_counts().hist(bins=30, color=\"lightgreen\")\n",
        "plt.title(\"Distribution of Ratings per Book\")\n",
        "plt.xlabel(\"Number of Ratings per Book\")\n",
        "plt.ylabel(\"Count of Books\")\n",
        "plt.show()\n"
      ],
      "metadata": {
        "colab": {
          "base_uri": "https://localhost:8080/",
          "height": 838
        },
        "id": "Xp6ydgx-iQAi",
        "outputId": "ec20d48b-5bfe-4efe-98b6-522606092200"
      },
      "execution_count": 57,
      "outputs": [
        {
          "output_type": "stream",
          "name": "stdout",
          "text": [
            "\n",
            "Shape after filtering infrequent users/books: (148732, 11)\n"
          ]
        },
        {
          "output_type": "display_data",
          "data": {
            "text/plain": [
              "<Figure size 600x400 with 1 Axes>"
            ],
            "image/png": "[encoded data removed]"
          },
          "metadata": {}
        },
        {
          "output_type": "display_data",
          "data": {
            "text/plain": [
              "<Figure size 600x400 with 1 Axes>"
            ],
            "image/png": "[encoded data removed]"
          },
          "metadata": {}
        }
      ]
    },
    {
      "cell_type": "markdown",
      "source": [
        "## popular\n"
      ],
      "metadata": {
        "id": "6j_Rx8eGjCZp"
      }
    },
    {
      "cell_type": "code",
      "source": [
        "# Compute ratings statistics for each book\n",
        "pop_stats = merged_df.groupby(\"Book-Title\").agg({\n",
        "    \"Book-Rating\": [\"count\", \"mean\"]\n",
        "}).reset_index()\n",
        "pop_stats.columns = [\"Book-Title\", \"NumRatings\", \"AvgRating\"]\n",
        "\n",
        "# Compute weighted rating using IMDB formula\n",
        "C = pop_stats[\"AvgRating\"].mean()  # mean rating across all books\n",
        "m = pop_stats[\"NumRatings\"].quantile(0.90)  # minimum ratings required\n",
        "\n",
        "pop_stats[\"WeightedRating\"] = (\n",
        "    (pop_stats[\"NumRatings\"] / (pop_stats[\"NumRatings\"] + m) * pop_stats[\"AvgRating\"]) +\n",
        "    (m / (pop_stats[\"NumRatings\"] + m) * C)\n",
        ")\n",
        "\n",
        "# Sort by weighted rating\n",
        "pop_stats.sort_values(\"WeightedRating\", ascending=False, inplace=True)\n",
        "pop_stats.reset_index(drop=True, inplace=True)"
      ],
      "metadata": {
        "id": "zZ1sbzrGYbTW"
      },
      "execution_count": 59,
      "outputs": []
    },
    {
      "cell_type": "markdown",
      "source": [
        "## Item-Based Collaborative Filtering"
      ],
      "metadata": {
        "id": "5Enwq2CqjhFZ"
      }
    },
    {
      "cell_type": "code",
      "source": [
        "# Create user-item matrix\n",
        "item_pivot = merged_df.pivot_table(\n",
        "    index=\"User-ID\",\n",
        "    columns=\"Book-Title\",\n",
        "    values=\"Book-Rating\"\n",
        ").fillna(0)\n",
        "\n",
        "# Compute item similarity matrix\n",
        "item_similarity = cosine_similarity(item_pivot.T.values, item_pivot.T.values)\n",
        "books_list = item_pivot.columns.tolist()\n",
        "\n",
        "def get_item_recommendations(book_title, n=5):\n",
        "    \"\"\"Get similar books based on user rating patterns\"\"\"\n",
        "    if book_title not in books_list:\n",
        "        print(f\"Book '{book_title}' not found in ratings data\")\n",
        "        return []\n",
        "\n",
        "    idx = books_list.index(book_title)\n",
        "    sim_scores = list(enumerate(item_similarity[idx]))\n",
        "    sim_scores = sorted(sim_scores, key=lambda x: x[1], reverse=True)\n",
        "    sim_scores = sim_scores[1:n+1]  # Skip the book itself\n",
        "\n",
        "    recommended = []\n",
        "    for i, score in sim_scores:\n",
        "        book_data = {\n",
        "            \"title\": books_list[i],\n",
        "            \"similarity_score\": score,\n",
        "            \"avg_rating\": pop_stats[pop_stats[\"Book-Title\"] == books_list[i]][\"AvgRating\"].iloc[0]\n",
        "        }\n",
        "        recommended.append(book_data)\n",
        "\n",
        "    return recommended"
      ],
      "metadata": {
        "id": "EGpfXDJyi_Z7"
      },
      "execution_count": 60,
      "outputs": []
    },
    {
      "cell_type": "markdown",
      "source": [
        "## Content-Based Recommendation System"
      ],
      "metadata": {
        "id": "LUUOFW09LUww"
      }
    },
    {
      "cell_type": "code",
      "source": [
        "# Create unique books DataFrame with content features\n",
        "unique_books = merged_df.drop_duplicates(subset=[\"Book-Title\"]).copy()\n",
        "\n",
        "# Combine features into a rich text representation\n",
        "unique_books[\"ContentFeatures\"] = (\n",
        "    unique_books[\"Book-Author\"].fillna(\"\") + \" \" +\n",
        "    unique_books[\"Publisher\"].fillna(\"\")\n",
        ")\n",
        "\n",
        "# Clean text: remove special chars, convert to lowercase\n",
        "unique_books[\"ContentFeatures\"] = unique_books[\"ContentFeatures\"].apply(\n",
        "    lambda x: re.sub(r\"[^\\w\\s]\", \"\", str(x)).strip().lower()\n",
        ")\n",
        "\n",
        "# Create TF-IDF vectors\n",
        "tfidf = TfidfVectorizer(stop_words=\"english\")\n",
        "content_matrix = tfidf.fit_transform(unique_books[\"ContentFeatures\"])\n",
        "\n",
        "# Compute content similarity matrix\n",
        "content_similarity = cosine_similarity(content_matrix, content_matrix)\n",
        "books_content_list = unique_books[\"Book-Title\"].tolist()\n",
        "\n",
        "def get_content_recommendations(book_title, n=5):\n",
        "    \"\"\"Get similar books based on content features\"\"\"\n",
        "    if book_title not in books_content_list:\n",
        "        print(f\"Book '{book_title}' not found in content data\")\n",
        "        return []\n",
        "\n",
        "    idx = books_content_list.index(book_title)\n",
        "    sim_scores = list(enumerate(content_similarity[idx]))\n",
        "    sim_scores = sorted(sim_scores, key=lambda x: x[1], reverse=True)\n",
        "    sim_scores = sim_scores[1:n+1]  # Skip the book itself\n",
        "\n",
        "    recommended = []\n",
        "    for i, score in sim_scores:\n",
        "        book_data = {\n",
        "            \"title\": books_content_list[i],\n",
        "            \"similarity_score\": score,\n",
        "            \"author\": unique_books.iloc[i][\"Book-Author\"],\n",
        "            \"publisher\": unique_books.iloc[i][\"Publisher\"]\n",
        "        }\n",
        "        recommended.append(book_data)\n",
        "\n",
        "    return recommended\n"
      ],
      "metadata": {
        "id": "1qEOVHOXjWYK"
      },
      "execution_count": 61,
      "outputs": []
    },
    {
      "cell_type": "code",
      "source": [
        "# Get top popular books\n",
        "print(\"\\nTop 10 Most Popular Books:\")\n",
        "print(pop_stats[[\"Book-Title\", \"NumRatings\", \"AvgRating\", \"WeightedRating\"]].head(10))\n",
        "\n",
        "# Get recommendations for a specific book\n",
        "test_book = \"The Da Vinci Code\"\n",
        "\n",
        "print(f\"\\nSimilar books to '{test_book}' based on user ratings:\")\n",
        "item_recs = get_item_recommendations(test_book, n=5)\n",
        "for rec in item_recs:\n",
        "    print(f\"- {rec['title']} (similarity: {rec['similarity_score']:.3f}, rating: {rec['avg_rating']:.2f})\")\n",
        "\n",
        "print(f\"\\nSimilar books to '{test_book}' based on content:\")\n",
        "content_recs = get_content_recommendations(test_book, n=5)\n",
        "for rec in content_recs:\n",
        "    print(f\"- {rec['title']} by {rec['author']} (similarity: {rec['similarity_score']:.3f})\")"
      ],
      "metadata": {
        "colab": {
          "base_uri": "https://localhost:8080/"
        },
        "id": "4cQZicUUpulp",
        "outputId": "fb34b04e-598b-4a74-fa67-17c9b8f13184"
      },
      "execution_count": 62,
      "outputs": [
        {
          "output_type": "stream",
          "name": "stdout",
          "text": [
            "\n",
            "Top 10 Most Popular Books:\n",
            "                                          Book-Title  NumRatings  AvgRating  \\\n",
            "0     The Two Towers (The Lord of the Rings, Part 2)         111   9.414414   \n",
            "1       Harry Potter and the Goblet of Fire (Book 4)         208   9.201923   \n",
            "2  Harry Potter and the Prisoner of Azkaban (Book 3)         233   9.064378   \n",
            "3  Harry Potter and the Order of the Phoenix (Boo...         173   9.080925   \n",
            "4  The Return of the King (The Lord of the Rings,...          94   9.202128   \n",
            "5                              To Kill a Mockingbird         192   9.026042   \n",
            "6  Harry Potter and the Sorcerer's Stone (Harry P...         223   8.986547   \n",
            "7     Harry Potter and the Sorcerer's Stone (Book 1)         140   9.064286   \n",
            "8   Harry Potter and the Chamber of Secrets (Book 2)         268   8.891791   \n",
            "9  The Fellowship of the Ring (The Lord of the Ri...         156   8.929487   \n",
            "\n",
            "   WeightedRating  \n",
            "0        9.091294  \n",
            "1        9.036356  \n",
            "2        8.928600  \n",
            "3        8.902047  \n",
            "4        8.879227  \n",
            "5        8.869299  \n",
            "6        8.853443  \n",
            "7        8.852454  \n",
            "8        8.787440  \n",
            "9        8.755535  \n",
            "\n",
            "Similar books to 'The Da Vinci Code' based on user ratings:\n",
            "- Angels &amp; Demons (similarity: 0.218, rating: 8.07)\n",
            "- Digital Fortress : A Thriller (similarity: 0.139, rating: 7.54)\n",
            "- Middlesex: A Novel (similarity: 0.125, rating: 8.40)\n",
            "- The Lovely Bones: A Novel (similarity: 0.124, rating: 8.26)\n",
            "- The Secret Life of Bees (similarity: 0.121, rating: 8.52)\n",
            "\n",
            "Similar books to 'The Da Vinci Code' based on content:\n",
            "- Deception Point by Dan Brown (similarity: 0.749)\n",
            "- Angels &amp; Demons by Dan Brown (similarity: 0.646)\n",
            "- Illuminati. by Dan Brown (similarity: 0.626)\n",
            "- Digital Fortress : A Thriller by Dan Brown (similarity: 0.609)\n",
            "- El Codigo Da Vinci / The Da Vinci Code by Dan Brown (similarity: 0.472)\n"
          ]
        }
      ]
    }
  ]
}